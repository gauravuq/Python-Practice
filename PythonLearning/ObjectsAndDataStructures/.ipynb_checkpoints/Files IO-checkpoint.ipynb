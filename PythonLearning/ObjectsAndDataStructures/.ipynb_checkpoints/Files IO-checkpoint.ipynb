{
 "cells": [
  {
   "cell_type": "code",
   "execution_count": 2,
   "metadata": {},
   "outputs": [
    {
     "name": "stdout",
     "output_type": "stream",
     "text": [
      "Writing MyFile.txt\n"
     ]
    }
   ],
   "source": [
    "%%writefile MyFile.txt\n",
    "First Line\n",
    "Second Line\n",
    "Gaurav Sood"
   ]
  },
  {
   "cell_type": "code",
   "execution_count": 3,
   "metadata": {},
   "outputs": [],
   "source": [
    "myfile = open('MyFile.txt')"
   ]
  },
  {
   "cell_type": "code",
   "execution_count": 4,
   "metadata": {},
   "outputs": [
    {
     "data": {
      "text/plain": [
       "<_io.TextIOWrapper name='MyFile.txt' mode='r' encoding='UTF-8'>"
      ]
     },
     "execution_count": 4,
     "metadata": {},
     "output_type": "execute_result"
    }
   ],
   "source": [
    "myfile"
   ]
  },
  {
   "cell_type": "code",
   "execution_count": 5,
   "metadata": {},
   "outputs": [
    {
     "data": {
      "text/plain": [
       "'/media/gaurav/DATA/Git Projects/Python Practice/PythonLearning/ObjectsAndDataStructures'"
      ]
     },
     "execution_count": 5,
     "metadata": {},
     "output_type": "execute_result"
    }
   ],
   "source": [
    "pwd"
   ]
  },
  {
   "cell_type": "code",
   "execution_count": 8,
   "metadata": {},
   "outputs": [
    {
     "data": {
      "text/plain": [
       "'First Line\\n'"
      ]
     },
     "execution_count": 8,
     "metadata": {},
     "output_type": "execute_result"
    }
   ],
   "source": [
    "myfile.readline()"
   ]
  },
  {
   "cell_type": "code",
   "execution_count": 9,
   "metadata": {},
   "outputs": [
    {
     "data": {
      "text/plain": [
       "'Second Line\\nGaurav Sood\\n'"
      ]
     },
     "execution_count": 9,
     "metadata": {},
     "output_type": "execute_result"
    }
   ],
   "source": [
    "myfile.read()"
   ]
  },
  {
   "cell_type": "code",
   "execution_count": 13,
   "metadata": {},
   "outputs": [
    {
     "data": {
      "text/plain": [
       "''"
      ]
     },
     "execution_count": 13,
     "metadata": {},
     "output_type": "execute_result"
    }
   ],
   "source": [
    "myfile.readline()"
   ]
  },
  {
   "cell_type": "code",
   "execution_count": 14,
   "metadata": {},
   "outputs": [
    {
     "name": "stdout",
     "output_type": "stream",
     "text": [
      " \u001b[0m\u001b[01;32mBooleans.ipynb\u001b[0m*       \u001b[01;32mMyFile.txt\u001b[0m*                  \u001b[01;32mtest.txt\u001b[0m*\r\n",
      " \u001b[01;32mDictionaries.ipynb\u001b[0m*  \u001b[01;32m'Number & Operators.ipynb'\u001b[0m*   \u001b[01;32mTuples.ipynb\u001b[0m*\r\n",
      "\u001b[01;32m'Files IO.ipynb'\u001b[0m*      \u001b[01;32mReadme.md\u001b[0m*                   \u001b[01;32mVariables.ipynb\u001b[0m*\r\n",
      " \u001b[01;32m__init__.py\u001b[0m*          \u001b[01;32mSets.ipynb\u001b[0m*\r\n",
      " \u001b[01;32mLists.ipynb\u001b[0m*         \u001b[01;32m'Strings Objects.ipynb'\u001b[0m*\r\n"
     ]
    }
   ],
   "source": [
    "ls"
   ]
  },
  {
   "cell_type": "code",
   "execution_count": 15,
   "metadata": {},
   "outputs": [
    {
     "name": "stdout",
     "output_type": "stream",
     "text": [
      "total 61\r\n",
      "-rwxrwxrwx 1 gaurav 2588 Jul 24 18:13  \u001b[0m\u001b[01;32mBooleans.ipynb\u001b[0m*\r\n",
      "-rwxrwxrwx 1 gaurav 4418 Jul 21 20:59  \u001b[01;32mDictionaries.ipynb\u001b[0m*\r\n",
      "-rwxrwxrwx 1 gaurav 2106 Jul 24 18:19 \u001b[01;32m'Files IO.ipynb'\u001b[0m*\r\n",
      "-rwxrwxrwx 1 gaurav    0 Jul 16 12:25  \u001b[01;32m__init__.py\u001b[0m*\r\n",
      "-rwxrwxrwx 1 gaurav 7100 Jul 20 14:20  \u001b[01;32mLists.ipynb\u001b[0m*\r\n",
      "-rwxrwxrwx 1 gaurav   35 Jul 24 18:16  \u001b[01;32mMyFile.txt\u001b[0m*\r\n",
      "-rwxrwxrwx 1 gaurav 1731 Jul 18 15:58 \u001b[01;32m'Number & Operators.ipynb'\u001b[0m*\r\n",
      "-rwxrwxrwx 1 gaurav 2615 Jul 24 18:02  \u001b[01;32mReadme.md\u001b[0m*\r\n",
      "-rwxrwxrwx 1 gaurav 4444 Jul 24 18:00  \u001b[01;32mSets.ipynb\u001b[0m*\r\n",
      "-rwxrwxrwx 1 gaurav 6359 Jul 19 15:03 \u001b[01;32m'Strings Objects.ipynb'\u001b[0m*\r\n",
      "-rwxrwxrwx 1 gaurav   22 Jul 16 11:23  \u001b[01;32mtest.txt\u001b[0m*\r\n",
      "-rwxrwxrwx 1 gaurav 3090 Jul 24 17:58  \u001b[01;32mTuples.ipynb\u001b[0m*\r\n",
      "-rwxrwxrwx 1 gaurav 7900 Jul 18 16:41  \u001b[01;32mVariables.ipynb\u001b[0m*\r\n"
     ]
    }
   ],
   "source": [
    "ll"
   ]
  },
  {
   "cell_type": "code",
   "execution_count": 20,
   "metadata": {},
   "outputs": [
    {
     "data": {
      "text/plain": [
       "'First Line\\nSecond Line\\nGaurav Sood\\n'"
      ]
     },
     "execution_count": 20,
     "metadata": {},
     "output_type": "execute_result"
    }
   ],
   "source": [
    "# resets the cursor \n",
    "myfile.seek(0)\n",
    "myfile.read()"
   ]
  },
  {
   "cell_type": "code",
   "execution_count": 19,
   "metadata": {},
   "outputs": [
    {
     "data": {
      "text/plain": [
       "['First Line\\n', 'Second Line\\n', 'Gaurav Sood\\n']"
      ]
     },
     "execution_count": 19,
     "metadata": {},
     "output_type": "execute_result"
    }
   ],
   "source": [
    "myfile.seek(0)\n",
    "# returns the lines in an list back , with each item in the list being each line;\n",
    "myfile.readlines()"
   ]
  },
  {
   "cell_type": "code",
   "execution_count": 21,
   "metadata": {},
   "outputs": [
    {
     "data": {
      "text/plain": [
       "'/media/gaurav/DATA/Git Projects/Python Practice/PythonLearning/ObjectsAndDataStructures'"
      ]
     },
     "execution_count": 21,
     "metadata": {},
     "output_type": "execute_result"
    }
   ],
   "source": [
    "pwd"
   ]
  },
  {
   "cell_type": "code",
   "execution_count": 22,
   "metadata": {},
   "outputs": [],
   "source": [
    "myfile.close()# close the files manually after we are done with reading;"
   ]
  },
  {
   "cell_type": "code",
   "execution_count": 24,
   "metadata": {},
   "outputs": [
    {
     "data": {
      "text/plain": [
       "True"
      ]
     },
     "execution_count": 24,
     "metadata": {},
     "output_type": "execute_result"
    }
   ],
   "source": [
    "myfile.closed ## tells if the file is close or not;"
   ]
  },
  {
   "cell_type": "code",
   "execution_count": 46,
   "metadata": {},
   "outputs": [
    {
     "data": {
      "text/plain": [
       "['Gaurav\\n', 'Sood\\n', 'Amit\\n', 'Sood\\n', ' Fourth Line']"
      ]
     },
     "execution_count": 46,
     "metadata": {},
     "output_type": "execute_result"
    }
   ],
   "source": [
    "with open('MyFile.txt',mode='r') as readContainer:\n",
    "    #readContainer.seek(0)\n",
    "    contents = readContainer.readlines();\n",
    "\n",
    "contents"
   ]
  },
  {
   "cell_type": "code",
   "execution_count": 45,
   "metadata": {},
   "outputs": [],
   "source": [
    "with open('MyFile.txt',mode='a') as readContainer:\n",
    "    readContainer.write(\"\\n Fourth Line\")"
   ]
  },
  {
   "cell_type": "code",
   "execution_count": null,
   "metadata": {},
   "outputs": [],
   "source": []
  }
 ],
 "metadata": {
  "kernelspec": {
   "display_name": "Python 3",
   "language": "python",
   "name": "python3"
  },
  "language_info": {
   "codemirror_mode": {
    "name": "ipython",
    "version": 3
   },
   "file_extension": ".py",
   "mimetype": "text/x-python",
   "name": "python",
   "nbconvert_exporter": "python",
   "pygments_lexer": "ipython3",
   "version": "3.7.6"
  }
 },
 "nbformat": 4,
 "nbformat_minor": 4
}
