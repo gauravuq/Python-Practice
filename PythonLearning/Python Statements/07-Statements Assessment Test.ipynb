{
 "cells": [
  {
   "cell_type": "markdown",
   "metadata": {},
   "source": [
    "___\n",
    "\n",
    "<a href='https://www.udemy.com/user/joseportilla/'><img src='../Pierian_Data_Logo.png'/></a>\n",
    "___\n",
    "<center><em>Content Copyright by Pierian Data</em></center>"
   ]
  },
  {
   "cell_type": "markdown",
   "metadata": {
    "collapsed": true
   },
   "source": [
    "# Statements Assessment Test\n",
    "Let's test your knowledge!"
   ]
  },
  {
   "cell_type": "markdown",
   "metadata": {},
   "source": [
    "_____\n",
    "**Use <code>for</code>, .split(), and <code>if</code> to create a Statement that will print out words that start with 's':**"
   ]
  },
  {
   "cell_type": "code",
   "execution_count": 2,
   "metadata": {},
   "outputs": [],
   "source": [
    "st = 'Print only the words that start with s in this sentence'"
   ]
  },
  {
   "cell_type": "code",
   "execution_count": 4,
   "metadata": {},
   "outputs": [
    {
     "name": "stdout",
     "output_type": "stream",
     "text": [
      "start\n",
      "s\n",
      "sentence\n"
     ]
    }
   ],
   "source": [
    "for x in st.split(\" \"):\n",
    "    if \"s\" in x[0]:\n",
    "        print(x)"
   ]
  },
  {
   "cell_type": "markdown",
   "metadata": {},
   "source": [
    "______\n",
    "**Use range() to print all the even numbers from 0 to 10.**"
   ]
  },
  {
   "cell_type": "code",
   "execution_count": 6,
   "metadata": {},
   "outputs": [
    {
     "name": "stdout",
     "output_type": "stream",
     "text": [
      "0\n",
      "2\n",
      "4\n",
      "6\n",
      "8\n"
     ]
    }
   ],
   "source": [
    "#Code Here\n",
    "for x in range(0,10,2):\n",
    "    print(x)"
   ]
  },
  {
   "cell_type": "markdown",
   "metadata": {},
   "source": [
    "___\n",
    "**Use a List Comprehension to create a list of all numbers between 1 and 50 that are divisible by 3.**"
   ]
  },
  {
   "cell_type": "code",
   "execution_count": 7,
   "metadata": {},
   "outputs": [
    {
     "data": {
      "text/plain": [
       "[3, 6, 9, 12, 15, 18, 21, 24, 27, 30, 33, 36, 39, 42, 45, 48]"
      ]
     },
     "execution_count": 7,
     "metadata": {},
     "output_type": "execute_result"
    }
   ],
   "source": [
    "#Code in this cell\n",
    "[x for x in range(1,51) if x%3==0]"
   ]
  },
  {
   "cell_type": "markdown",
   "metadata": {},
   "source": [
    "_____\n",
    "**Go through the string below and if the length of a word is even print \"even!\"**"
   ]
  },
  {
   "cell_type": "code",
   "execution_count": 8,
   "metadata": {},
   "outputs": [],
   "source": [
    "st = 'Print every word in this sentence that has an even number of letters'"
   ]
  },
  {
   "cell_type": "code",
   "execution_count": 9,
   "metadata": {},
   "outputs": [
    {
     "name": "stdout",
     "output_type": "stream",
     "text": [
      "word\n",
      "in\n",
      "this\n",
      "sentence\n",
      "that\n",
      "an\n",
      "even\n",
      "number\n",
      "of\n"
     ]
    }
   ],
   "source": [
    "#Code in this cell\n",
    "for x in st.split(\" \"):\n",
    "    if len(x)%2==0:\n",
    "        print(x)"
   ]
  },
  {
   "cell_type": "markdown",
   "metadata": {},
   "source": [
    "____\n",
    "**Write a program that prints the integers from 1 to 100. But for multiples of three print \"Fizz\" instead of the number, and for the multiples of five print \"Buzz\". For numbers which are multiples of both three and five print \"FizzBuzz\".**"
   ]
  },
  {
   "cell_type": "code",
   "execution_count": 13,
   "metadata": {},
   "outputs": [
    {
     "name": "stdout",
     "output_type": "stream",
     "text": [
      "Fizz:3\n",
      "Buzz:5\n",
      "Fizz:6\n",
      "Fizz:9\n",
      "Buzz:10\n",
      "Fizz:12\n",
      "FizzBuzz:15\n",
      "Fizz:18\n",
      "Buzz:20\n",
      "Fizz:21\n",
      "Fizz:24\n",
      "Buzz:25\n",
      "Fizz:27\n",
      "FizzBuzz:30\n",
      "Fizz:33\n",
      "Buzz:35\n",
      "Fizz:36\n",
      "Fizz:39\n",
      "Buzz:40\n",
      "Fizz:42\n",
      "FizzBuzz:45\n",
      "Fizz:48\n",
      "Buzz:50\n",
      "Fizz:51\n",
      "Fizz:54\n",
      "Buzz:55\n",
      "Fizz:57\n",
      "FizzBuzz:60\n",
      "Fizz:63\n",
      "Buzz:65\n",
      "Fizz:66\n",
      "Fizz:69\n",
      "Buzz:70\n",
      "Fizz:72\n",
      "FizzBuzz:75\n",
      "Fizz:78\n",
      "Buzz:80\n",
      "Fizz:81\n",
      "Fizz:84\n",
      "Buzz:85\n",
      "Fizz:87\n",
      "FizzBuzz:90\n",
      "Fizz:93\n",
      "Buzz:95\n",
      "Fizz:96\n",
      "Fizz:99\n",
      "Buzz:100\n"
     ]
    }
   ],
   "source": [
    "#Code in this cell\n",
    "for x in range(1,101):\n",
    "    if x%3 ==0 and x%5==0:\n",
    "        print(\"FizzBuzz:\" + str(x))\n",
    "    elif x%3==0:\n",
    "        print('Fizz:'+str(x))\n",
    "    elif x%5==0:\n",
    "        print(\"Buzz:\"+str(x))\n",
    "        "
   ]
  },
  {
   "cell_type": "markdown",
   "metadata": {},
   "source": [
    "____\n",
    "**Use List Comprehension to create a list of the first letters of every word in the string below:**"
   ]
  },
  {
   "cell_type": "code",
   "execution_count": 14,
   "metadata": {},
   "outputs": [],
   "source": [
    "st = 'Create a list of the first letters of every word in this string'"
   ]
  },
  {
   "cell_type": "code",
   "execution_count": 15,
   "metadata": {},
   "outputs": [
    {
     "data": {
      "text/plain": [
       "['C', 'a', 'l', 'o', 't', 'f', 'l', 'o', 'e', 'w', 'i', 't', 's']"
      ]
     },
     "execution_count": 15,
     "metadata": {},
     "output_type": "execute_result"
    }
   ],
   "source": [
    "#Code in this cell\n",
    "[x[0] for x in st.split(\" \")]"
   ]
  },
  {
   "cell_type": "markdown",
   "metadata": {},
   "source": [
    "### Great Job!"
   ]
  }
 ],
 "metadata": {
  "kernelspec": {
   "display_name": "Python 3",
   "language": "python",
   "name": "python3"
  },
  "language_info": {
   "codemirror_mode": {
    "name": "ipython",
    "version": 3
   },
   "file_extension": ".py",
   "mimetype": "text/x-python",
   "name": "python",
   "nbconvert_exporter": "python",
   "pygments_lexer": "ipython3",
   "version": "3.7.6"
  }
 },
 "nbformat": 4,
 "nbformat_minor": 1
}
