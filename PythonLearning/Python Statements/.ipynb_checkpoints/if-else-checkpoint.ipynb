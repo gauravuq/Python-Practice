{
 "cells": [
  {
   "cell_type": "code",
   "execution_count": 3,
   "metadata": {},
   "outputs": [
    {
     "name": "stdout",
     "output_type": "stream",
     "text": [
      "It is ANZ\n"
     ]
    }
   ],
   "source": [
    "bank =\"ANZ\"\n",
    "\n",
    "if bank ==\"CWB\":\n",
    "    print(\"It is CWB\")\n",
    "elif bank ==\"ANZ\":\n",
    "    print(\"It is ANZ\")\n",
    "else:\n",
    "    print(\"It is not bank\")"
   ]
  },
  {
   "cell_type": "code",
   "execution_count": 5,
   "metadata": {},
   "outputs": [
    {
     "name": "stdout",
     "output_type": "stream",
     "text": [
      "IT is always true\n"
     ]
    }
   ],
   "source": [
    "test = True\n",
    "if test:\n",
    "    print(\"IT is always true\")"
   ]
  },
  {
   "cell_type": "code",
   "execution_count": null,
   "metadata": {},
   "outputs": [],
   "source": []
  }
 ],
 "metadata": {
  "kernelspec": {
   "display_name": "Python 3",
   "language": "python",
   "name": "python3"
  },
  "language_info": {
   "codemirror_mode": {
    "name": "ipython",
    "version": 3
   },
   "file_extension": ".py",
   "mimetype": "text/x-python",
   "name": "python",
   "nbconvert_exporter": "python",
   "pygments_lexer": "ipython3",
   "version": "3.7.6"
  }
 },
 "nbformat": 4,
 "nbformat_minor": 4
}
