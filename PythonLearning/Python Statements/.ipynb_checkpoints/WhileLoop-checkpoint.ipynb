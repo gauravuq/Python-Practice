{
 "cells": [
  {
   "cell_type": "code",
   "execution_count": 2,
   "metadata": {},
   "outputs": [
    {
     "name": "stdout",
     "output_type": "stream",
     "text": [
      "0\n",
      "1\n",
      "2\n",
      "3\n",
      "4\n"
     ]
    }
   ],
   "source": [
    "x =0;\n",
    "while x <5:\n",
    "    print(x)\n",
    "    x+=1;"
   ]
  },
  {
   "cell_type": "code",
   "execution_count": 3,
   "metadata": {},
   "outputs": [
    {
     "name": "stdout",
     "output_type": "stream",
     "text": [
      "0\n",
      "1\n",
      "2\n",
      "3\n",
      "4\n",
      "No Longer Smaller than 5\n"
     ]
    }
   ],
   "source": [
    "x =0;\n",
    "while x <5:\n",
    "    print(x)\n",
    "    x+=1;\n",
    "else:\n",
    "    print(\"No Longer Smaller than 5\")"
   ]
  },
  {
   "cell_type": "markdown",
   "metadata": {},
   "source": [
    "#### break, continue, pass"
   ]
  },
  {
   "cell_type": "code",
   "execution_count": 10,
   "metadata": {},
   "outputs": [],
   "source": [
    "letter=\"gaurav\"\n",
    "for x in letter:\n",
    "    pass  ## do nothing just a filler;"
   ]
  },
  {
   "cell_type": "code",
   "execution_count": 1,
   "metadata": {},
   "outputs": [
    {
     "name": "stdout",
     "output_type": "stream",
     "text": [
      "0\n",
      "1\n",
      "2\n"
     ]
    }
   ],
   "source": [
    "x =0;\n",
    "while x <5:\n",
    "    print(x)\n",
    "    if(x==2):\n",
    "        break;\n",
    "    x+=1;\n",
    "    \n",
    "else:\n",
    "    print(\"No Longer Smaller than 5\")"
   ]
  },
  {
   "cell_type": "code",
   "execution_count": 4,
   "metadata": {},
   "outputs": [
    {
     "name": "stdout",
     "output_type": "stream",
     "text": [
      "0\n",
      "1\n",
      "3\n",
      "4\n",
      "No Longer Smaller than 5\n"
     ]
    }
   ],
   "source": [
    "x =0;\n",
    "while x <5:\n",
    "    if(x!=2):\n",
    "        print(x);\n",
    "    x+=1;\n",
    "    \n",
    "else:\n",
    "    print(\"No Longer Smaller than 5\")"
   ]
  },
  {
   "cell_type": "code",
   "execution_count": null,
   "metadata": {},
   "outputs": [],
   "source": []
  }
 ],
 "metadata": {
  "kernelspec": {
   "display_name": "Python 3",
   "language": "python",
   "name": "python3"
  },
  "language_info": {
   "codemirror_mode": {
    "name": "ipython",
    "version": 3
   },
   "file_extension": ".py",
   "mimetype": "text/x-python",
   "name": "python",
   "nbconvert_exporter": "python",
   "pygments_lexer": "ipython3",
   "version": "3.7.6"
  }
 },
 "nbformat": 4,
 "nbformat_minor": 4
}
