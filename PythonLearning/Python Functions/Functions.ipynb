{
 "cells": [
  {
   "cell_type": "code",
   "execution_count": 1,
   "metadata": {},
   "outputs": [
    {
     "name": "stdout",
     "output_type": "stream",
     "text": [
      "Help on built-in function insert:\n",
      "\n",
      "insert(index, object, /) method of builtins.list instance\n",
      "    Insert object before index.\n",
      "\n"
     ]
    }
   ],
   "source": [
    "mylist=[1,2,3,4]\n",
    "help(mylist.insert)"
   ]
  },
  {
   "cell_type": "code",
   "execution_count": 3,
   "metadata": {},
   "outputs": [
    {
     "name": "stdout",
     "output_type": "stream",
     "text": [
      "hello\n"
     ]
    }
   ],
   "source": [
    "def function_1():\n",
    "    '''\n",
    "    These are my comments \n",
    "    '''\n",
    "    print(\"hello\")\n",
    "function_1();"
   ]
  },
  {
   "cell_type": "code",
   "execution_count": 4,
   "metadata": {},
   "outputs": [],
   "source": [
    "def function_2(name=\"Gaurav\"):\n",
    "    print(f'Hello {name}')"
   ]
  },
  {
   "cell_type": "code",
   "execution_count": 7,
   "metadata": {},
   "outputs": [
    {
     "name": "stdout",
     "output_type": "stream",
     "text": [
      "Hello Gaurav\n"
     ]
    }
   ],
   "source": [
    "function_2()"
   ]
  },
  {
   "cell_type": "code",
   "execution_count": 13,
   "metadata": {},
   "outputs": [],
   "source": [
    "def function_3():\n",
    "    return \"gaurav sood\""
   ]
  },
  {
   "cell_type": "code",
   "execution_count": 15,
   "metadata": {},
   "outputs": [
    {
     "data": {
      "text/plain": [
       "'gaurav sood'"
      ]
     },
     "execution_count": 15,
     "metadata": {},
     "output_type": "execute_result"
    }
   ],
   "source": [
    "function_3()"
   ]
  },
  {
   "cell_type": "markdown",
   "metadata": {},
   "source": [
    "#### logic with function "
   ]
  },
  {
   "cell_type": "code",
   "execution_count": 16,
   "metadata": {},
   "outputs": [],
   "source": [
    "def check_even_function(num_list):\n",
    "    for num in num_list:\n",
    "        if num%2 ==0:\n",
    "            return True;\n",
    "        else:\n",
    "            pass\n",
    "    return False;"
   ]
  },
  {
   "cell_type": "code",
   "execution_count": 17,
   "metadata": {},
   "outputs": [
    {
     "data": {
      "text/plain": [
       "True"
      ]
     },
     "execution_count": 17,
     "metadata": {},
     "output_type": "execute_result"
    }
   ],
   "source": [
    "check_even_function([1231,41,40])"
   ]
  },
  {
   "cell_type": "markdown",
   "metadata": {},
   "source": [
    "#### Tuple unpacking with functions "
   ]
  },
  {
   "cell_type": "code",
   "execution_count": 6,
   "metadata": {},
   "outputs": [],
   "source": [
    "lstWhoAteTheMostHotDogs = [(\"Gaurav\",1),(\"Vic\",10),(\"Amit\",5)]"
   ]
  },
  {
   "cell_type": "code",
   "execution_count": 7,
   "metadata": {},
   "outputs": [
    {
     "data": {
      "text/plain": [
       "(10, 'Vic')"
      ]
     },
     "execution_count": 7,
     "metadata": {},
     "output_type": "execute_result"
    }
   ],
   "source": [
    "def  funcWhoAteTheMostHotDogs(lstpeopleList):\n",
    "    currentMax=0;\n",
    "    thePerson=\"\";\n",
    "    for name,count in lstpeopleList:\n",
    "        if (currentMax < count):\n",
    "            currentMax =count;\n",
    "            thePerson = name;\n",
    "            \n",
    "    return (currentMax,thePerson)\n",
    "    \n",
    "funcWhoAteTheMostHotDogs(lstWhoAteTheMostHotDogs)"
   ]
  },
  {
   "cell_type": "markdown",
   "metadata": {},
   "source": [
    "#### Function using each other"
   ]
  },
  {
   "cell_type": "code",
   "execution_count": 21,
   "metadata": {},
   "outputs": [
    {
     "name": "stdout",
     "output_type": "stream",
     "text": [
      "Please enter a guess; Choose only 1, 2 or 0 :: 0\n",
      "Loser\n",
      "[' ', ' ', 'O']\n"
     ]
    }
   ],
   "source": [
    "from random import shuffle\n",
    "lstMyList=[' ','O',' ']\n",
    "def funcShuffleList(lst):\n",
    "    shuffle(lst);\n",
    "    return lst;\n",
    "def funcAskUserForAGuess():\n",
    "    strResult=\"\"\n",
    "    while strResult not in [\"1\",\"2\",\"0\"]:\n",
    "        strResult = input(\"Please enter a guess; Choose only 1, 2 or 0 :: \")\n",
    "    return int(strResult);\n",
    "def funcCheckTheGuess(lst,guess):\n",
    "    if(lst[guess]==\"O\"):\n",
    "        print(\"You Win\")\n",
    "    else:\n",
    "        print(\"Loser\")\n",
    "        print(lst)\n",
    "\n",
    "lstMyNewList = funcShuffleList(lstMyList);     \n",
    "guess = funcAskUserForAGuess();\n",
    "funcCheckTheGuess(lstMyNewList,guess);"
   ]
  },
  {
   "cell_type": "markdown",
   "metadata": {},
   "source": [
    "#### args : for any number of arguments"
   ]
  },
  {
   "cell_type": "code",
   "execution_count": 3,
   "metadata": {},
   "outputs": [
    {
     "name": "stdout",
     "output_type": "stream",
     "text": [
      "('Gaurab', 'Dutt', 'Sood')\n"
     ]
    }
   ],
   "source": [
    "def funcName(*args):\n",
    "    print(args)  # prints our a tuple\n",
    "    \n",
    "funcName(\"Gaurab\",\"Dutt\",\"Sood\")"
   ]
  },
  {
   "cell_type": "markdown",
   "metadata": {},
   "source": [
    "#### for key word arguments "
   ]
  },
  {
   "cell_type": "code",
   "execution_count": 6,
   "metadata": {},
   "outputs": [
    {
     "name": "stdout",
     "output_type": "stream",
     "text": [
      "{'FirstName': 'Gaurav', 'LastName': 'Sood'}\n"
     ]
    }
   ],
   "source": [
    "def funcName(**kwargs):\n",
    "    print(kwargs) # returns a dictionary\n",
    "\n",
    "funcName(FirstName=\"Gaurav\",LastName=\"Sood\")"
   ]
  },
  {
   "cell_type": "code",
   "execution_count": null,
   "metadata": {},
   "outputs": [],
   "source": []
  }
 ],
 "metadata": {
  "kernelspec": {
   "display_name": "Python 3",
   "language": "python",
   "name": "python3"
  },
  "language_info": {
   "codemirror_mode": {
    "name": "ipython",
    "version": 3
   },
   "file_extension": ".py",
   "mimetype": "text/x-python",
   "name": "python",
   "nbconvert_exporter": "python",
   "pygments_lexer": "ipython3",
   "version": "3.7.6"
  }
 },
 "nbformat": 4,
 "nbformat_minor": 4
}
